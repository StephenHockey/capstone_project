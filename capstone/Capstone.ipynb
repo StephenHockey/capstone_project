{
 "cells": [
  {
   "cell_type": "markdown",
   "metadata": {},
   "source": [
    "# Capstone Project - Amazon Review Analysis"
   ]
  },
  {
   "cell_type": "markdown",
   "metadata": {},
   "source": [
    "For my Capstone project for the DSI Immersive Program at General Assembly I am going to attempt to predict whether or not an Amazon review gave a 5-star rating based solely off of the text and summary of the review. I will be implementing several different Natural Language Processing techniques in order to do this. Along the way I will also look at what words or sets of words are best for for this prediction, which should have a great business-use of showing what features of a product customers are looking for."
   ]
  },
  {
   "cell_type": "markdown",
   "metadata": {},
   "source": [
    "### Fetching Data"
   ]
  },
  {
   "cell_type": "markdown",
   "metadata": {},
   "source": [
    "All of the Amazon review data can be found here: http://jmcauley.ucsd.edu/data/amazon/\n",
    "\n",
    "I will be using only the Electronics subsection, as I believe that this is the section where I have the most domain knowledge, while still being an extremely sizable dataset at ~1.6million entries."
   ]
  },
  {
   "cell_type": "code",
   "execution_count": 1,
   "metadata": {
    "collapsed": true
   },
   "outputs": [],
   "source": [
    "import pandas as pd\n",
    "import numpy as np\n",
    "import seaborn as sns\n",
    "import matplotlib.pyplot as plt\n",
    "%matplotlib inline\n",
    "\n",
    "import json\n",
    "import gzip"
   ]
  },
  {
   "cell_type": "code",
   "execution_count": 2,
   "metadata": {
    "collapsed": true
   },
   "outputs": [],
   "source": [
    "def parse(path):\n",
    "  g = gzip.open(path, 'r')\n",
    "  for l in g:\n",
    "    yield eval(l)"
   ]
  },
  {
   "cell_type": "code",
   "execution_count": 3,
   "metadata": {},
   "outputs": [
    {
     "data": {
      "text/plain": [
       "(1689188, 9)"
      ]
     },
     "execution_count": 3,
     "metadata": {},
     "output_type": "execute_result"
    }
   ],
   "source": [
    "def getDF(path):\n",
    "  i = 0\n",
    "  df = {}\n",
    "  for d in parse(path):\n",
    "    df[i] = d\n",
    "    i += 1\n",
    "  return pd.DataFrame.from_dict(df, orient='index')\n",
    "\n",
    "df = getDF(\"/Users/stephenhockey/Downloads/reviews_Electronics_5.json.gz\")\n",
    "\n",
    "df.shape"
   ]
  },
  {
   "cell_type": "markdown",
   "metadata": {},
   "source": [
    "Because we are solely using Natural Language Processing for this prediction, and we have a very large dataset of more than 1.6 million reviews, I will cut this down by removing all entries with the text of the review being less than 100 characters, and all entries with the summary of the review being less than 5 characters (pretty much just getting rid of reviews with empty or useless summaries)."
   ]
  },
  {
   "cell_type": "code",
   "execution_count": 4,
   "metadata": {
    "scrolled": true
   },
   "outputs": [
    {
     "data": {
      "text/plain": [
       "(1648246, 9)"
      ]
     },
     "execution_count": 4,
     "metadata": {},
     "output_type": "execute_result"
    }
   ],
   "source": [
    "df = df[df.reviewText.apply(lambda x: len(x) >= 100) == True]\n",
    "df.shape"
   ]
  },
  {
   "cell_type": "code",
   "execution_count": 5,
   "metadata": {
    "collapsed": true
   },
   "outputs": [],
   "source": [
    "from string import punctuation"
   ]
  },
  {
   "cell_type": "code",
   "execution_count": 6,
   "metadata": {},
   "outputs": [
    {
     "data": {
      "text/plain": [
       "(1621241, 9)"
      ]
     },
     "execution_count": 6,
     "metadata": {},
     "output_type": "execute_result"
    }
   ],
   "source": [
    "# From some later investigation it seems that there are some reviews with summaries longer than\n",
    "# 5 characters that consist solely of white space or punctuation. To also remove these we will \n",
    "# strip all white space and punctuation from the summary before counting the length.\n",
    "\n",
    "def remove_spaces_and_punctuation(text):\n",
    "    text = text.replace(' ', '')\n",
    "    text = text.translate(str.maketrans('', '', punctuation))\n",
    "    return text\n",
    "\n",
    "dfcopy = df.copy()\n",
    "dfcopy.summary = dfcopy.summary.apply(remove_spaces_and_punctuation)\n",
    "df = df[dfcopy.summary.apply(lambda x: len(x) >= 5)]\n",
    "\n",
    "# reseting the index so there are not numbers skipped \n",
    "df.index = range(df.shape[0])\n",
    "df.shape"
   ]
  },
  {
   "cell_type": "markdown",
   "metadata": {},
   "source": [
    "It does not seem like there were very many reviews with a text length of less than 100 characters or a summary of less than 5 characters, as only about 70,000 of the entries were dropped."
   ]
  },
  {
   "cell_type": "markdown",
   "metadata": {},
   "source": [
    "### Initial Look at Data"
   ]
  },
  {
   "cell_type": "code",
   "execution_count": 7,
   "metadata": {},
   "outputs": [
    {
     "data": {
      "text/html": [
       "<div>\n",
       "<style>\n",
       "    .dataframe thead tr:only-child th {\n",
       "        text-align: right;\n",
       "    }\n",
       "\n",
       "    .dataframe thead th {\n",
       "        text-align: left;\n",
       "    }\n",
       "\n",
       "    .dataframe tbody tr th {\n",
       "        vertical-align: top;\n",
       "    }\n",
       "</style>\n",
       "<table border=\"1\" class=\"dataframe\">\n",
       "  <thead>\n",
       "    <tr style=\"text-align: right;\">\n",
       "      <th></th>\n",
       "      <th>reviewerID</th>\n",
       "      <th>asin</th>\n",
       "      <th>reviewerName</th>\n",
       "      <th>helpful</th>\n",
       "      <th>reviewText</th>\n",
       "      <th>overall</th>\n",
       "      <th>summary</th>\n",
       "      <th>unixReviewTime</th>\n",
       "      <th>reviewTime</th>\n",
       "    </tr>\n",
       "  </thead>\n",
       "  <tbody>\n",
       "    <tr>\n",
       "      <th>0</th>\n",
       "      <td>AO94DHGC771SJ</td>\n",
       "      <td>0528881469</td>\n",
       "      <td>amazdnu</td>\n",
       "      <td>[0, 0]</td>\n",
       "      <td>We got this GPS for my husband who is an (OTR)...</td>\n",
       "      <td>5.0</td>\n",
       "      <td>Gotta have GPS!</td>\n",
       "      <td>1370131200</td>\n",
       "      <td>06 2, 2013</td>\n",
       "    </tr>\n",
       "    <tr>\n",
       "      <th>1</th>\n",
       "      <td>AMO214LNFCEI4</td>\n",
       "      <td>0528881469</td>\n",
       "      <td>Amazon Customer</td>\n",
       "      <td>[12, 15]</td>\n",
       "      <td>I'm a professional OTR truck driver, and I bou...</td>\n",
       "      <td>1.0</td>\n",
       "      <td>Very Disappointed</td>\n",
       "      <td>1290643200</td>\n",
       "      <td>11 25, 2010</td>\n",
       "    </tr>\n",
       "    <tr>\n",
       "      <th>2</th>\n",
       "      <td>A3N7T0DY83Y4IG</td>\n",
       "      <td>0528881469</td>\n",
       "      <td>C. A. Freeman</td>\n",
       "      <td>[43, 45]</td>\n",
       "      <td>Well, what can I say.  I've had this unit in m...</td>\n",
       "      <td>3.0</td>\n",
       "      <td>1st impression</td>\n",
       "      <td>1283990400</td>\n",
       "      <td>09 9, 2010</td>\n",
       "    </tr>\n",
       "    <tr>\n",
       "      <th>3</th>\n",
       "      <td>A1H8PY3QHMQQA0</td>\n",
       "      <td>0528881469</td>\n",
       "      <td>Dave M. Shaw \"mack dave\"</td>\n",
       "      <td>[9, 10]</td>\n",
       "      <td>Not going to write a long review, even thought...</td>\n",
       "      <td>2.0</td>\n",
       "      <td>Great grafics, POOR GPS</td>\n",
       "      <td>1290556800</td>\n",
       "      <td>11 24, 2010</td>\n",
       "    </tr>\n",
       "    <tr>\n",
       "      <th>4</th>\n",
       "      <td>A24EV6RXELQZ63</td>\n",
       "      <td>0528881469</td>\n",
       "      <td>Wayne Smith</td>\n",
       "      <td>[0, 0]</td>\n",
       "      <td>I've had mine for a year and here's what we go...</td>\n",
       "      <td>1.0</td>\n",
       "      <td>Major issues, only excuses for support</td>\n",
       "      <td>1317254400</td>\n",
       "      <td>09 29, 2011</td>\n",
       "    </tr>\n",
       "  </tbody>\n",
       "</table>\n",
       "</div>"
      ],
      "text/plain": [
       "       reviewerID        asin              reviewerName   helpful  \\\n",
       "0   AO94DHGC771SJ  0528881469                   amazdnu    [0, 0]   \n",
       "1   AMO214LNFCEI4  0528881469           Amazon Customer  [12, 15]   \n",
       "2  A3N7T0DY83Y4IG  0528881469             C. A. Freeman  [43, 45]   \n",
       "3  A1H8PY3QHMQQA0  0528881469  Dave M. Shaw \"mack dave\"   [9, 10]   \n",
       "4  A24EV6RXELQZ63  0528881469               Wayne Smith    [0, 0]   \n",
       "\n",
       "                                          reviewText  overall  \\\n",
       "0  We got this GPS for my husband who is an (OTR)...      5.0   \n",
       "1  I'm a professional OTR truck driver, and I bou...      1.0   \n",
       "2  Well, what can I say.  I've had this unit in m...      3.0   \n",
       "3  Not going to write a long review, even thought...      2.0   \n",
       "4  I've had mine for a year and here's what we go...      1.0   \n",
       "\n",
       "                                  summary  unixReviewTime   reviewTime  \n",
       "0                         Gotta have GPS!      1370131200   06 2, 2013  \n",
       "1                       Very Disappointed      1290643200  11 25, 2010  \n",
       "2                          1st impression      1283990400   09 9, 2010  \n",
       "3                 Great grafics, POOR GPS      1290556800  11 24, 2010  \n",
       "4  Major issues, only excuses for support      1317254400  09 29, 2011  "
      ]
     },
     "execution_count": 7,
     "metadata": {},
     "output_type": "execute_result"
    }
   ],
   "source": [
    "df.head()\n",
    "# The helpful column looks like it could possibly be a good feature, subtracting the second\n",
    "# number from the first, however, I want to see how we can do with only using the text columns"
   ]
  },
  {
   "cell_type": "code",
   "execution_count": 8,
   "metadata": {},
   "outputs": [
    {
     "data": {
      "text/plain": [
       "reviewerID            0\n",
       "asin                  0\n",
       "reviewerName      22897\n",
       "helpful               0\n",
       "reviewText            0\n",
       "overall               0\n",
       "summary               0\n",
       "unixReviewTime        0\n",
       "reviewTime            0\n",
       "dtype: int64"
      ]
     },
     "execution_count": 8,
     "metadata": {},
     "output_type": "execute_result"
    }
   ],
   "source": [
    "# Null values\n",
    "df.isnull().sum()"
   ]
  },
  {
   "cell_type": "markdown",
   "metadata": {},
   "source": [
    "The only column with any null values is 'reviewerName', which we will be getting rid of anyways. This dataset seems to be very clean already.\n",
    "\n",
    "Let's take a look at all of the different ratings and how often they occur in the dataset."
   ]
  },
  {
   "cell_type": "code",
   "execution_count": 9,
   "metadata": {
    "scrolled": true
   },
   "outputs": [
    {
     "data": {
      "text/plain": [
       "5.0    966299\n",
       "4.0    335482\n",
       "3.0    136141\n",
       "1.0    103846\n",
       "2.0     79473\n",
       "Name: overall, dtype: int64"
      ]
     },
     "execution_count": 9,
     "metadata": {},
     "output_type": "execute_result"
    }
   ],
   "source": [
    "df['overall'].value_counts()"
   ]
  },
  {
   "cell_type": "code",
   "execution_count": 10,
   "metadata": {
    "scrolled": true
   },
   "outputs": [
    {
     "data": {
      "image/png": "[encoded data removed]",
      "text/plain": [
       "<matplotlib.figure.Figure at 0x1a66f0ddd8>"
      ]
     },
     "metadata": {},
     "output_type": "display_data"
    }
   ],
   "source": [
    "# Number of each rating visualized\n",
    "\n",
    "bars = [1.0, 2.0, 3.0, 4.0, 5.0]\n",
    "labels = [df['overall'].value_counts()[1.0], df['overall'].value_counts()[2.0], \n",
    "          df['overall'].value_counts()[3.0], df['overall'].value_counts()[4.0], \n",
    "          df['overall'].value_counts()[5.0]]\n",
    "values = df.overall.value_counts().sort_index().values.tolist()\n",
    "\n",
    "plt.bar(bars, values)\n",
    "plt.xticks(bars, ['1 Star', '2 Star', '3 Star', '4 Star', '5 Star'])\n",
    "plt.yticks([200000, 400000, 600000, 800000, 1000000], \n",
    "           ['200,000', '400,000', '600,000', '800,000', '1,000,000'])\n",
    "plt.ylabel('Occurences', fontsize=16)\n",
    "plt.xlabel('Rating', fontsize=16)\n",
    "\n",
    "# Adding the labels, the numbers added or subtracted to each of the x and y values are\n",
    "# arbitrary, used to center the labels on the column\n",
    "for i in range(5):\n",
    "    plt.text(x=bars[i]-0.26, y=values[i]+8000, s=labels[i])\n",
    "    \n",
    "plt.title('Number of All Ratings', fontsize=20)\n",
    "plt.grid(False)\n",
    "plt.show()"
   ]
  },
  {
   "cell_type": "code",
   "execution_count": 11,
   "metadata": {},
   "outputs": [
    {
     "name": "stdout",
     "output_type": "stream",
     "text": [
      "0.596024280166\n"
     ]
    }
   ],
   "source": [
    "# Checking to see our baseline accuracy that we will try to improve on with our model.\n",
    "baseline = df['overall'].value_counts()[5.0] / df['overall'].value_counts().sum()\n",
    "print(baseline)"
   ]
  },
  {
   "cell_type": "markdown",
   "metadata": {},
   "source": [
    "Because most of the columns in this dataset seem like they will be completely irrelevant to the rating given with the review, the first step is to filter out only the relevant predictor columns, which would be the 'reviewText' and 'summary', and the target column 'overall'. Since we are just trying to predict whether or not a review's rating was a 5, we can then change all values that aren't a 5 to a 0 and all 5s to a 1.\n",
    "\n",
    "Out of curiousity, and as a later addition to this project, I will also try to predict whether the rating was five stars, four stars, or any of the other three. The idea for this came from my days as a bank teller, where our interactions with customers would be scored using the Net Promoter Score (short explanation here: https://www.netpromoter.com/know/). Basically, clients we interacted with during the day would be randomly selected to be cold-called, and asked how they would rate their experience in the bank that day on a scale from 1 to 5. The tellers would then get scores based on all of these responses with only a 5 being positive, a 4 being neutral, and any rating lower detracting from our overall score.\n",
    "\n",
    "I am interested in seeing how accurately the model can predict the rating when four star reviews are separated into their own category. If I had to guess, I would assume that it will be much worse at predicting 4-stars, as there is probably much more of a mix of positive and negative words contained in the text of those reviews than there is in either of the two extremes."
   ]
  },
  {
   "cell_type": "code",
   "execution_count": 12,
   "metadata": {
    "collapsed": true
   },
   "outputs": [],
   "source": [
    "target = df['overall'].apply(lambda x: 1 if x == 5.0 else 0)\n",
    "multiclass_target = df['overall'].apply(lambda x: 2 if x == 5.0 else 1 if x == 4.0 else 0)\n",
    "X = df[['reviewText', 'summary']]"
   ]
  },
  {
   "cell_type": "code",
   "execution_count": 13,
   "metadata": {
    "scrolled": false
   },
   "outputs": [
    {
     "data": {
      "text/plain": [
       "1    966299\n",
       "0    654942\n",
       "Name: overall, dtype: int64"
      ]
     },
     "execution_count": 13,
     "metadata": {},
     "output_type": "execute_result"
    }
   ],
   "source": [
    "target.value_counts()"
   ]
  },
  {
   "cell_type": "code",
   "execution_count": 14,
   "metadata": {},
   "outputs": [
    {
     "data": {
      "image/png": "[encoded data removed]",
      "text/plain": [
       "<matplotlib.figure.Figure at 0x1a7b009da0>"
      ]
     },
     "metadata": {},
     "output_type": "display_data"
    }
   ],
   "source": [
    "# Binary classification target visualied\n",
    "\n",
    "bars = [0, 1]\n",
    "labels = [target.value_counts()[0], target.value_counts()[1]]\n",
    "values = target.value_counts().sort_index().values.tolist()\n",
    "\n",
    "plt.bar(bars, values)\n",
    "plt.xticks(bars, ['1, 2, 3, or 4 Stars', '5 Stars'])\n",
    "plt.yticks([200000, 400000, 600000, 800000, 1000000], \n",
    "           ['200,000', '400,000', '600,000', '800,000', '1,000,000'])\n",
    "plt.ylabel('Occurences', fontsize=16)\n",
    "plt.xlabel('Rating', fontsize=16)\n",
    "for i in range(2):\n",
    "    plt.text(x=bars[i]-0.1, y=values[i]+11000, s=labels[i])\n",
    "plt.title('Five Stars or Not', fontsize=20)\n",
    "plt.grid(False)\n",
    "plt.show()"
   ]
  },
  {
   "cell_type": "code",
   "execution_count": 15,
   "metadata": {},
   "outputs": [
    {
     "data": {
      "text/plain": [
       "2    966299\n",
       "1    335482\n",
       "0    319460\n",
       "Name: overall, dtype: int64"
      ]
     },
     "execution_count": 15,
     "metadata": {},
     "output_type": "execute_result"
    }
   ],
   "source": [
    "multiclass_target.value_counts()"
   ]
  },
  {
   "cell_type": "code",
   "execution_count": 16,
   "metadata": {},
   "outputs": [
    {
     "data": {
      "image/png": "[encoded data removed]",
      "text/plain": [
       "<matplotlib.figure.Figure at 0x1a606f2d68>"
      ]
     },
     "metadata": {},
     "output_type": "display_data"
    }
   ],
   "source": [
    "bars = [0, 1, 2]\n",
    "labels = [multiclass_target.value_counts()[0], multiclass_target.value_counts()[1],\n",
    "          multiclass_target.value_counts()[2]]\n",
    "values = multiclass_target.value_counts().sort_index().values.tolist()\n",
    "\n",
    "plt.bar(bars, values)\n",
    "plt.xticks(bars, ['1, 2, or 3 Stars', '4 Stars', '5 Stars'])\n",
    "plt.yticks([200000, 400000, 600000, 800000, 1000000], \n",
    "           ['200,000', '400,000', '600,000', '800,000', '1,000,000'])\n",
    "plt.ylabel('Occurences', fontsize=16)\n",
    "plt.xlabel('Rating', fontsize=16)\n",
    "for i in range(3):\n",
    "    plt.text(x=bars[i]-0.18, y=values[i]+6000, s=labels[i])\n",
    "plt.title('Multiclass Classification Values', fontsize=20)\n",
    "plt.show()"
   ]
  },
  {
   "cell_type": "markdown",
   "metadata": {},
   "source": [
    "We will then use train_test_split to split up our data into training and testing sets in order to test our model on data it has not seen before."
   ]
  },
  {
   "cell_type": "code",
   "execution_count": 17,
   "metadata": {
    "collapsed": true
   },
   "outputs": [],
   "source": [
    "from sklearn.model_selection import train_test_split"
   ]
  },
  {
   "cell_type": "code",
   "execution_count": 18,
   "metadata": {
    "collapsed": true
   },
   "outputs": [],
   "source": [
    "X_train, X_test, y_train, y_test = train_test_split(X, target, test_size=0.1, random_state=24)"
   ]
  },
  {
   "cell_type": "code",
   "execution_count": 19,
   "metadata": {
    "collapsed": true
   },
   "outputs": [],
   "source": [
    "# MULTICLASS TARGET SPLIT - We should only have to use the new y-values from this, as the X's\n",
    "# should all be the same\n",
    "mutliclass_X_train, multiclass_X_test, multiclass_y_train, multiclass_y_test = \\\n",
    "                        train_test_split(X, multiclass_target, test_size=0.1, random_state=24)"
   ]
  },
  {
   "cell_type": "markdown",
   "metadata": {},
   "source": [
    "### Natural Language Processing"
   ]
  },
  {
   "cell_type": "code",
   "execution_count": 20,
   "metadata": {
    "collapsed": true
   },
   "outputs": [],
   "source": [
    "from nltk.stem import PorterStemmer\n",
    "from nltk.corpus import stopwords\n",
    "import string\n",
    "\n",
    "from sklearn.feature_extraction.text import CountVectorizer, TfidfVectorizer\n",
    "from sklearn.decomposition import TruncatedSVD"
   ]
  },
  {
   "cell_type": "markdown",
   "metadata": {},
   "source": [
    "Since we have two different columns that we will be utilizing Natural Language Processing on, we will need to separate them from both X_train and X_test into their own series. This is so that we have separate values for words contained within both the summary of the review and the text of a review, which should be an important distinction."
   ]
  },
  {
   "cell_type": "code",
   "execution_count": 21,
   "metadata": {
    "collapsed": true
   },
   "outputs": [],
   "source": [
    "X_train_text = X_train['reviewText']\n",
    "X_train_summary = X_train['summary']\n",
    "X_test_text = X_test['reviewText']\n",
    "X_test_summary = X_test['summary']"
   ]
  },
  {
   "cell_type": "code",
   "execution_count": 22,
   "metadata": {
    "collapsed": true
   },
   "outputs": [],
   "source": [
    "# Creating our text preprocesser. The function will remove punctuation and numbers from the\n",
    "# text, change it all into lowercase, and add all words that are not in the english stop-words\n",
    "# list to a list of final words, while stemming words with the same roots together.\n",
    "\n",
    "def text_preprocesser(text):\n",
    "    stemmer = PorterStemmer()\n",
    "    stop = stopwords.words('english')\n",
    "    text = text.translate(str.maketrans('', '', string.punctuation))\n",
    "    text = text.translate(str.maketrans('', '', string.digits))\n",
    "    text = text.lower().strip()\n",
    "    final_text = []\n",
    "    for w in text.split():\n",
    "        if w not in stop:\n",
    "            final_text.append(stemmer.stem(w.strip()))\n",
    "    return ' '.join(final_text)"
   ]
  },
  {
   "cell_type": "markdown",
   "metadata": {},
   "source": [
    "Because our preprocesser that we will run all of our text through removes all punctuation and case of the text, I will manually create binary classification columns for where the summary and text of a post contains certain punctuation, and a column for the percentage of the text that was upper-case (assuming worse reviews have a higher ratio of capital letters). "
   ]
  },
  {
   "cell_type": "code",
   "execution_count": 23,
   "metadata": {
    "scrolled": true
   },
   "outputs": [
    {
     "name": "stderr",
     "output_type": "stream",
     "text": [
      "/Users/stephenhockey/anaconda3/lib/python3.6/site-packages/ipykernel_launcher.py:1: SettingWithCopyWarning: \n",
      "A value is trying to be set on a copy of a slice from a DataFrame.\n",
      "Try using .loc[row_indexer,col_indexer] = value instead\n",
      "\n",
      "See the caveats in the documentation: http://pandas.pydata.org/pandas-docs/stable/indexing.html#indexing-view-versus-copy\n",
      "  \"\"\"Entry point for launching an IPython kernel.\n",
      "/Users/stephenhockey/anaconda3/lib/python3.6/site-packages/ipykernel_launcher.py:2: SettingWithCopyWarning: \n",
      "A value is trying to be set on a copy of a slice from a DataFrame.\n",
      "Try using .loc[row_indexer,col_indexer] = value instead\n",
      "\n",
      "See the caveats in the documentation: http://pandas.pydata.org/pandas-docs/stable/indexing.html#indexing-view-versus-copy\n",
      "  \n",
      "/Users/stephenhockey/anaconda3/lib/python3.6/site-packages/ipykernel_launcher.py:3: SettingWithCopyWarning: \n",
      "A value is trying to be set on a copy of a slice from a DataFrame.\n",
      "Try using .loc[row_indexer,col_indexer] = value instead\n",
      "\n",
      "See the caveats in the documentation: http://pandas.pydata.org/pandas-docs/stable/indexing.html#indexing-view-versus-copy\n",
      "  This is separate from the ipykernel package so we can avoid doing imports until\n",
      "/Users/stephenhockey/anaconda3/lib/python3.6/site-packages/ipykernel_launcher.py:4: SettingWithCopyWarning: \n",
      "A value is trying to be set on a copy of a slice from a DataFrame.\n",
      "Try using .loc[row_indexer,col_indexer] = value instead\n",
      "\n",
      "See the caveats in the documentation: http://pandas.pydata.org/pandas-docs/stable/indexing.html#indexing-view-versus-copy\n",
      "  after removing the cwd from sys.path.\n"
     ]
    }
   ],
   "source": [
    "X_train['reviewText_contains_?'] = X_train_text.str.contains('\\?').astype(int)\n",
    "X_train['reviewText_contains_!'] = X_train_text.str.contains('!').astype(int)\n",
    "X_train['reviewText_contains_!!+'] = X_train_text.str.contains('!!+').astype(int)\n",
    "X_train['reviewText_contains_??+'] = X_train_text.str.contains('\\?\\?+').astype(int)"
   ]
  },
  {
   "cell_type": "code",
   "execution_count": 24,
   "metadata": {
    "scrolled": true
   },
   "outputs": [
    {
     "name": "stderr",
     "output_type": "stream",
     "text": [
      "/Users/stephenhockey/anaconda3/lib/python3.6/site-packages/ipykernel_launcher.py:1: SettingWithCopyWarning: \n",
      "A value is trying to be set on a copy of a slice from a DataFrame.\n",
      "Try using .loc[row_indexer,col_indexer] = value instead\n",
      "\n",
      "See the caveats in the documentation: http://pandas.pydata.org/pandas-docs/stable/indexing.html#indexing-view-versus-copy\n",
      "  \"\"\"Entry point for launching an IPython kernel.\n",
      "/Users/stephenhockey/anaconda3/lib/python3.6/site-packages/ipykernel_launcher.py:2: SettingWithCopyWarning: \n",
      "A value is trying to be set on a copy of a slice from a DataFrame.\n",
      "Try using .loc[row_indexer,col_indexer] = value instead\n",
      "\n",
      "See the caveats in the documentation: http://pandas.pydata.org/pandas-docs/stable/indexing.html#indexing-view-versus-copy\n",
      "  \n",
      "/Users/stephenhockey/anaconda3/lib/python3.6/site-packages/ipykernel_launcher.py:3: SettingWithCopyWarning: \n",
      "A value is trying to be set on a copy of a slice from a DataFrame.\n",
      "Try using .loc[row_indexer,col_indexer] = value instead\n",
      "\n",
      "See the caveats in the documentation: http://pandas.pydata.org/pandas-docs/stable/indexing.html#indexing-view-versus-copy\n",
      "  This is separate from the ipykernel package so we can avoid doing imports until\n",
      "/Users/stephenhockey/anaconda3/lib/python3.6/site-packages/ipykernel_launcher.py:4: SettingWithCopyWarning: \n",
      "A value is trying to be set on a copy of a slice from a DataFrame.\n",
      "Try using .loc[row_indexer,col_indexer] = value instead\n",
      "\n",
      "See the caveats in the documentation: http://pandas.pydata.org/pandas-docs/stable/indexing.html#indexing-view-versus-copy\n",
      "  after removing the cwd from sys.path.\n"
     ]
    }
   ],
   "source": [
    "X_test['reviewText_contains_?'] = X_test_text.str.contains('\\?').astype(int)\n",
    "X_test['reviewText_contains_!'] = X_test_text.str.contains('!').astype(int)\n",
    "X_test['reviewText_contains_!!+'] = X_test_text.str.contains('!!+').astype(int)\n",
    "X_test['reviewText_contains_??+'] = X_test_text.str.contains('\\?\\?+').astype(int)"
   ]
  },
  {
   "cell_type": "code",
   "execution_count": 25,
   "metadata": {
    "collapsed": true
   },
   "outputs": [],
   "source": [
    "# Strips the message of punctuation, counts the number of capital letters in the text, then\n",
    "# divides that number by the length of the text minus the number of spaces. This makes it so\n",
    "# that punctuation and whitespaces are not included in the total length of the message and\n",
    "# don't throw off the ratio.\n",
    "def capital_ratio(message):\n",
    "    message = message.translate(str.maketrans('', '', punctuation))\n",
    "    capitals = sum(1 for x in message if x.isupper())\n",
    "    total = len(message)\n",
    "    spaces = message.count(' ')\n",
    "    capital_ratio = capitals / (total - spaces)\n",
    "    return capital_ratio"
   ]
  },
  {
   "cell_type": "code",
   "execution_count": 26,
   "metadata": {
    "scrolled": true
   },
   "outputs": [
    {
     "name": "stderr",
     "output_type": "stream",
     "text": [
      "/Users/stephenhockey/anaconda3/lib/python3.6/site-packages/ipykernel_launcher.py:1: SettingWithCopyWarning: \n",
      "A value is trying to be set on a copy of a slice from a DataFrame.\n",
      "Try using .loc[row_indexer,col_indexer] = value instead\n",
      "\n",
      "See the caveats in the documentation: http://pandas.pydata.org/pandas-docs/stable/indexing.html#indexing-view-versus-copy\n",
      "  \"\"\"Entry point for launching an IPython kernel.\n",
      "/Users/stephenhockey/anaconda3/lib/python3.6/site-packages/ipykernel_launcher.py:2: SettingWithCopyWarning: \n",
      "A value is trying to be set on a copy of a slice from a DataFrame.\n",
      "Try using .loc[row_indexer,col_indexer] = value instead\n",
      "\n",
      "See the caveats in the documentation: http://pandas.pydata.org/pandas-docs/stable/indexing.html#indexing-view-versus-copy\n",
      "  \n",
      "/Users/stephenhockey/anaconda3/lib/python3.6/site-packages/ipykernel_launcher.py:3: SettingWithCopyWarning: \n",
      "A value is trying to be set on a copy of a slice from a DataFrame.\n",
      "Try using .loc[row_indexer,col_indexer] = value instead\n",
      "\n",
      "See the caveats in the documentation: http://pandas.pydata.org/pandas-docs/stable/indexing.html#indexing-view-versus-copy\n",
      "  This is separate from the ipykernel package so we can avoid doing imports until\n",
      "/Users/stephenhockey/anaconda3/lib/python3.6/site-packages/ipykernel_launcher.py:4: SettingWithCopyWarning: \n",
      "A value is trying to be set on a copy of a slice from a DataFrame.\n",
      "Try using .loc[row_indexer,col_indexer] = value instead\n",
      "\n",
      "See the caveats in the documentation: http://pandas.pydata.org/pandas-docs/stable/indexing.html#indexing-view-versus-copy\n",
      "  after removing the cwd from sys.path.\n"
     ]
    }
   ],
   "source": [
    "X_train['reviewText_capital_ratio'] = X_train_text.apply(capital_ratio)\n",
    "X_test['reviewText_capital_ratio'] = X_test_text.apply(capital_ratio)\n",
    "X_train['summary_capital_ratio'] = X_train_summary.apply(capital_ratio)\n",
    "X_test['summary_capital_ratio'] = X_test_summary.apply(capital_ratio)"
   ]
  },
  {
   "cell_type": "code",
   "execution_count": 27,
   "metadata": {
    "collapsed": true
   },
   "outputs": [],
   "source": [
    "# We will use the textblob library to determine the polartity (how positive or negative) the\n",
    "# text was. I'll create a function for this and apply it to all of our text columns.\n",
    "from textblob import TextBlob\n",
    "\n",
    "def polarity(text):\n",
    "    text = TextBlob(text)\n",
    "    return text.sentiment.polarity"
   ]
  },
  {
   "cell_type": "code",
   "execution_count": 28,
   "metadata": {
    "scrolled": true
   },
   "outputs": [
    {
     "name": "stderr",
     "output_type": "stream",
     "text": [
      "/Users/stephenhockey/anaconda3/lib/python3.6/site-packages/ipykernel_launcher.py:1: SettingWithCopyWarning: \n",
      "A value is trying to be set on a copy of a slice from a DataFrame.\n",
      "Try using .loc[row_indexer,col_indexer] = value instead\n",
      "\n",
      "See the caveats in the documentation: http://pandas.pydata.org/pandas-docs/stable/indexing.html#indexing-view-versus-copy\n",
      "  \"\"\"Entry point for launching an IPython kernel.\n",
      "/Users/stephenhockey/anaconda3/lib/python3.6/site-packages/ipykernel_launcher.py:2: SettingWithCopyWarning: \n",
      "A value is trying to be set on a copy of a slice from a DataFrame.\n",
      "Try using .loc[row_indexer,col_indexer] = value instead\n",
      "\n",
      "See the caveats in the documentation: http://pandas.pydata.org/pandas-docs/stable/indexing.html#indexing-view-versus-copy\n",
      "  \n",
      "/Users/stephenhockey/anaconda3/lib/python3.6/site-packages/ipykernel_launcher.py:3: SettingWithCopyWarning: \n",
      "A value is trying to be set on a copy of a slice from a DataFrame.\n",
      "Try using .loc[row_indexer,col_indexer] = value instead\n",
      "\n",
      "See the caveats in the documentation: http://pandas.pydata.org/pandas-docs/stable/indexing.html#indexing-view-versus-copy\n",
      "  This is separate from the ipykernel package so we can avoid doing imports until\n",
      "/Users/stephenhockey/anaconda3/lib/python3.6/site-packages/ipykernel_launcher.py:4: SettingWithCopyWarning: \n",
      "A value is trying to be set on a copy of a slice from a DataFrame.\n",
      "Try using .loc[row_indexer,col_indexer] = value instead\n",
      "\n",
      "See the caveats in the documentation: http://pandas.pydata.org/pandas-docs/stable/indexing.html#indexing-view-versus-copy\n",
      "  after removing the cwd from sys.path.\n"
     ]
    }
   ],
   "source": [
    "X_train['reviewText_polarity'] = X_train_text.apply(polarity)\n",
    "X_test['reviewText_polarity'] = X_test_text.apply(polarity)\n",
    "X_train['summary_polarity'] = X_train_summary.apply(polarity)\n",
    "X_test['summary_polarity'] = X_test_summary.apply(polarity)"
   ]
  },
  {
   "cell_type": "markdown",
   "metadata": {},
   "source": [
    "#### TFIDF Vectorizer"
   ]
  },
  {
   "cell_type": "markdown",
   "metadata": {},
   "source": [
    "We are now going to run our two text columns through TFIDF Vectorizer to processed columns with values signifying how many times a specific word appears in a document vs. how unique that word is within the entire corpus."
   ]
  },
  {
   "cell_type": "markdown",
   "metadata": {},
   "source": [
    "#### reviewText"
   ]
  },
  {
   "cell_type": "code",
   "execution_count": 29,
   "metadata": {},
   "outputs": [],
   "source": [
    "text_tfidf = TfidfVectorizer(preprocessor=text_preprocesser, min_df=0.001, max_df=0.6)\n",
    "text_tfidf.fit(X_train_text)\n",
    "\n",
    "text_tfidf_X_train = text_tfidf.transform(X_train_text)\n",
    "text_tfidf_X_test = text_tfidf.transform(X_test_text)"
   ]
  },
  {
   "cell_type": "markdown",
   "metadata": {},
   "source": [
    "#### Summary"
   ]
  },
  {
   "cell_type": "code",
   "execution_count": 30,
   "metadata": {},
   "outputs": [],
   "source": [
    "summary_tfidf = TfidfVectorizer(preprocessor=text_preprocesser, min_df=0.0001, max_df=0.6)\n",
    "summary_tfidf.fit(X_train_summary)\n",
    "\n",
    "summary_tfidf_X_train = summary_tfidf.transform(X_train_summary)\n",
    "summary_tfidf_X_test = summary_tfidf.transform(X_test_summary)"
   ]
  },
  {
   "cell_type": "markdown",
   "metadata": {},
   "source": [
    "### Saving My Matrices"
   ]
  },
  {
   "cell_type": "markdown",
   "metadata": {},
   "source": [
    "Because I am working with NLP on such a large dataset, it takes a VERY long time to fit and transform it with the TFIDF Vectorizer. I've also killed the kernel more than a couple times by attempting to do operations that I have learned I should not do on such a dataset, such as trying to make my TFIDF output matrices dense. To avoid having to wait for these to fit and transform with every future kernel death, I will save my sparse matrices locally using scipy.sparse.save_npz, and load them using scipy.sparse.load_npz."
   ]
  },
  {
   "cell_type": "code",
   "execution_count": 31,
   "metadata": {
    "collapsed": true
   },
   "outputs": [],
   "source": [
    "from scipy.sparse import save_npz, load_npz"
   ]
  },
  {
   "cell_type": "code",
   "execution_count": 32,
   "metadata": {
    "collapsed": true
   },
   "outputs": [],
   "source": [
    "save_npz('text_tfidf_X_train.npz', text_tfidf_X_train)\n",
    "save_npz('text_tfidf_X_test.npz', text_tfidf_X_test)\n",
    "save_npz('summary_tfidf_X_train.npz', summary_tfidf_X_train)\n",
    "save_npz('summary_tfidf_X_test.npz', summary_tfidf_X_test)"
   ]
  },
  {
   "cell_type": "code",
   "execution_count": 33,
   "metadata": {
    "collapsed": true
   },
   "outputs": [],
   "source": [
    "# text_tfidf_X_train = load_npz('text_tfidf_X_train.npz')\n",
    "# text_tfidf_X_test = load_npz('text_tfidf_X_test.npz')\n",
    "# summary_tfidf_X_train = load_npz('summary_tfidf_X_train.npz')\n",
    "# summary_tfidf_X_test = load_npz('summary_tfidf_X_test.npz')"
   ]
  },
  {
   "cell_type": "markdown",
   "metadata": {},
   "source": [
    "### Preparation for Modeling"
   ]
  },
  {
   "cell_type": "code",
   "execution_count": 34,
   "metadata": {
    "collapsed": true
   },
   "outputs": [],
   "source": [
    "# We can now safely drop our text columns from both X_train and X_test as they have already\n",
    "# been extracted and processed.\n",
    "\n",
    "X_train = X_train.drop(['reviewText', 'summary'], axis=1)\n",
    "X_test = X_test.drop(['reviewText', 'summary'], axis=1)"
   ]
  },
  {
   "cell_type": "markdown",
   "metadata": {},
   "source": [
    "We will be working only with sparse matrices for our models. Since the dataset is so large, just trying to convert the sparse matrices output from the TFIDF Vectorizer caused my computer to run out of memory. To avoid this, we will just use sparse matrices which are much more efficient to run as they omit all datapoints with a value of 0, which would be a huge amount when you are using NLP.\n",
    "\n",
    "However, in order to use sparse matrices for our model, we will need to convert our dataframes X_train and X_test with our created features into sparse matrices, and find out how to concatenate sparse matrices together. We will then do that on our text_tfidf, summary_tfidf, and original dataframe(turned into a sparse matrix) for both our training set and testing set of data. We should then be ready to model, using of course, a model that will accept sparse matrices as an input."
   ]
  },
  {
   "cell_type": "code",
   "execution_count": 35,
   "metadata": {
    "scrolled": true
   },
   "outputs": [
    {
     "name": "stdout",
     "output_type": "stream",
     "text": [
      "Training: (1459116, 3322) (1459116, 2178) (1459116, 8)\n",
      "Testing: (162125, 3322) (162125, 2178) (162125, 8)\n"
     ]
    }
   ],
   "source": [
    "# Just confirming that all of our data is the expected shape so that we won't have any issues\n",
    "# adding them together.\n",
    "\n",
    "print('Training:', text_tfidf_X_train.shape, summary_tfidf_X_train.shape, X_train.shape)\n",
    "print('Testing:', text_tfidf_X_test.shape, summary_tfidf_X_test.shape, X_test.shape)"
   ]
  },
  {
   "cell_type": "code",
   "execution_count": 36,
   "metadata": {
    "collapsed": true
   },
   "outputs": [],
   "source": [
    "# We can convert dense matrices such as our X_train and X_test into the same format (Compressed\n",
    "# Sparse Row) as our tfidf data using scipy.sparse.csr_matrix\n",
    "from scipy.sparse import csr_matrix\n",
    "\n",
    "sparse_X_train = csr_matrix(X_train)\n",
    "sparse_X_test = csr_matrix(X_test)\n",
    "\n",
    "# Going to once again save these sparse matrices, to be loaded in case of kernel death\n",
    "save_npz('sparse_X_train', sparse_X_train)\n",
    "save_npz('sparse_X_test', sparse_X_test)"
   ]
  },
  {
   "cell_type": "code",
   "execution_count": 37,
   "metadata": {
    "collapsed": true
   },
   "outputs": [],
   "source": [
    "# sparse_X_train = load_npz('sparse_X_train.npz')\n",
    "# sparse_X_test = load_npz('sparse_X_test.npz')"
   ]
  },
  {
   "cell_type": "code",
   "execution_count": 38,
   "metadata": {
    "collapsed": true
   },
   "outputs": [],
   "source": [
    "# To concatenate our three separate sparse matrices back into just one sparse matrix along the\n",
    "# x-axis, we can use hstack, also from the scipy.sparse library.\n",
    "\n",
    "from scipy.sparse import hstack\n",
    "modeling_tfidf_X_train = hstack((text_tfidf_X_train, summary_tfidf_X_train, sparse_X_train))\n",
    "modeling_tfidf_X_test = hstack((text_tfidf_X_test, summary_tfidf_X_test, sparse_X_test))"
   ]
  },
  {
   "cell_type": "code",
   "execution_count": 39,
   "metadata": {
    "scrolled": true
   },
   "outputs": [
    {
     "name": "stdout",
     "output_type": "stream",
     "text": [
      "Expected Number of Columns: 5508\n",
      "Training: (1459116, 5508)\n",
      "Testing: (162125, 5508)\n"
     ]
    }
   ],
   "source": [
    "# Our concatenated sparse matrices should have the same number of rows as their respective sets\n",
    "# above, with the number of columns of all three combined.\n",
    "print('Expected Number of Columns:', str(text_tfidf_X_train.shape[1] + \\\n",
    "                                         summary_tfidf_X_train.shape[1] + X_train.shape[1]))\n",
    "print('Training:', modeling_tfidf_X_train.shape) \n",
    "print('Testing:', modeling_tfidf_X_test.shape)"
   ]
  },
  {
   "cell_type": "markdown",
   "metadata": {},
   "source": [
    "### Modeling - Binary Classification"
   ]
  },
  {
   "cell_type": "markdown",
   "metadata": {},
   "source": [
    "Remember our baseline accuracy calculated before, this is the score we are aiming to beat with our model. This will be the same for both our binary classification model and our multiclass classification model as the most common value was just 5.0, which is not being changed at all."
   ]
  },
  {
   "cell_type": "code",
   "execution_count": 40,
   "metadata": {},
   "outputs": [
    {
     "name": "stdout",
     "output_type": "stream",
     "text": [
      "0.596024280166\n"
     ]
    }
   ],
   "source": [
    "print(baseline)"
   ]
  },
  {
   "cell_type": "markdown",
   "metadata": {},
   "source": [
    "I will try a few models to see how they each perform with no hyperparameter tuning, and then take the best one from that and use GridSearchCV to attempt to get it as tuned as possible."
   ]
  },
  {
   "cell_type": "code",
   "execution_count": 41,
   "metadata": {
    "collapsed": true
   },
   "outputs": [],
   "source": [
    "from sklearn.svm import LinearSVC\n",
    "from sklearn.ensemble import RandomForestClassifier, AdaBoostClassifier\n",
    "from sklearn.linear_model import LinearRegression\n",
    "from sklearn.model_selection import cross_val_score, GridSearchCV"
   ]
  },
  {
   "cell_type": "markdown",
   "metadata": {},
   "source": [
    "##### Linear Support Vector Classifier"
   ]
  },
  {
   "cell_type": "code",
   "execution_count": 42,
   "metadata": {
    "scrolled": true
   },
   "outputs": [
    {
     "name": "stdout",
     "output_type": "stream",
     "text": [
      "LSVC training set accuracy: 0.808175635111\n",
      "LSVC testing set accuracy 0.796299134804\n"
     ]
    }
   ],
   "source": [
    "lsvc = LinearSVC()\n",
    "lsvc.fit(modeling_tfidf_X_train, y_train)\n",
    "\n",
    "print('LSVC training set accuracy:', lsvc.score(modeling_tfidf_X_train, y_train))\n",
    "print('LSVC testing set accuracy', \n",
    "      cross_val_score(lsvc, modeling_tfidf_X_test, y_test, cv=5).mean())"
   ]
  },
  {
   "cell_type": "markdown",
   "metadata": {},
   "source": [
    "##### Random Forest Classifier"
   ]
  },
  {
   "cell_type": "code",
   "execution_count": 43,
   "metadata": {},
   "outputs": [
    {
     "name": "stdout",
     "output_type": "stream",
     "text": [
      "Random Forest training set accuracy: 0.991616841978\n",
      "Random Forest testing set accuracy: 0.729443314003\n"
     ]
    }
   ],
   "source": [
    "rf = RandomForestClassifier()\n",
    "rf.fit(modeling_tfidf_X_train, y_train)\n",
    "\n",
    "print('Random Forest training set accuracy:', rf.score(modeling_tfidf_X_train, y_train))\n",
    "print('Random Forest testing set accuracy:', \n",
    "      cross_val_score(rf, modeling_tfidf_X_test, y_test, cv=3).mean())"
   ]
  },
  {
   "cell_type": "markdown",
   "metadata": {},
   "source": [
    "##### AdaBoost Classifier"
   ]
  },
  {
   "cell_type": "code",
   "execution_count": 44,
   "metadata": {},
   "outputs": [
    {
     "name": "stdout",
     "output_type": "stream",
     "text": [
      "AdaBoost training set accuracy: 0.746083244924\n",
      "AdaBoost testing set accuracy: 0.745295305342\n"
     ]
    }
   ],
   "source": [
    "abc = AdaBoostClassifier()\n",
    "abc.fit(modeling_tfidf_X_train, y_train)\n",
    "\n",
    "print('AdaBoost training set accuracy:', abc.score(modeling_tfidf_X_train, y_train))\n",
    "print('AdaBoost testing set accuracy:',\n",
    "     cross_val_score(abc, modeling_tfidf_X_test, y_test, cv=3).mean())"
   ]
  },
  {
   "cell_type": "markdown",
   "metadata": {},
   "source": [
    "##### Linear Regression"
   ]
  },
  {
   "cell_type": "code",
   "execution_count": 45,
   "metadata": {},
   "outputs": [
    {
     "name": "stdout",
     "output_type": "stream",
     "text": [
      "Linear Regression training set accuracy: 0.403002174003\n",
      "Linear Regression testing set accuracy: 0.369302761952\n"
     ]
    }
   ],
   "source": [
    "lr = LinearRegression()\n",
    "lr.fit(modeling_tfidf_X_train, y_train)\n",
    "\n",
    "print('Linear Regression training set accuracy:', lr.score(modeling_tfidf_X_train, y_train))\n",
    "print('Linear Regression testing set accuracy:',\n",
    "     cross_val_score(lr, modeling_tfidf_X_test, y_test, cv=3).mean())"
   ]
  },
  {
   "cell_type": "markdown",
   "metadata": {
    "collapsed": true
   },
   "source": [
    "It is quite clear from the initial modeling that Linear Support Vector Classifier is the best choice for this data. This is very great for us as it seems to be the one that is quickest with a very large dataset, taking only a couple of minutes to fit while some of the others took hours. \n",
    "\n",
    "While Random Forest Classifier has a 99% accuracy on the training data, that drops down to only 73% on the testing data, probably signifying the model is overfit. We will now tune the hyperparameters of LSVC using a GridSearch."
   ]
  },
  {
   "cell_type": "code",
   "execution_count": 46,
   "metadata": {},
   "outputs": [
    {
     "name": "stdout",
     "output_type": "stream",
     "text": [
      "{'C': 0.165, 'loss': 'hinge', 'max_iter': 500, 'penalty': 'l2'}\n",
      "0.80579542682\n"
     ]
    }
   ],
   "source": [
    "# Because of the size of this dataset and the amount of memory it takes to run things that\n",
    "# iterate through it many times, I had to limit the gridsearch to just a few permutations on\n",
    "# each run. To get around this, I just ran the GridSearchCV many times, adjusting the\n",
    "# parameters lower or higher when they were sitting right on the edge. What you see below is\n",
    "# the result of many of these separate gridsearches.\n",
    "\n",
    "gs_lsvc = LinearSVC()\n",
    "\n",
    "params = {\n",
    "    'penalty':['l2'],\n",
    "    'loss': ['hinge'],\n",
    "    'C': [0.155, 0.16, 0.165, 0.17, 0.175],\n",
    "    'max_iter': [500]\n",
    "}\n",
    "\n",
    "clf = GridSearchCV(gs_lsvc, param_grid=params, n_jobs=-1)\n",
    "clf.fit(modeling_tfidf_X_train, y_train)\n",
    "\n",
    "print(clf.best_params_)\n",
    "print(clf.best_score_)"
   ]
  },
  {
   "cell_type": "code",
   "execution_count": 47,
   "metadata": {},
   "outputs": [
    {
     "data": {
      "text/plain": [
       "0.79993212813893722"
      ]
     },
     "execution_count": 47,
     "metadata": {},
     "output_type": "execute_result"
    }
   ],
   "source": [
    "cross_val_score(clf, modeling_tfidf_X_test, y_test, cv=5).mean()\n",
    "\n",
    "# As you can see, the tuning of the hyperparameters resulted in only 0.4% increase in accuracy \n",
    "# over the untuned model. While this may seem insignificant, with a dataset of one million \n",
    "# reviews, this would be an extra 4,000 correct classifications."
   ]
  },
  {
   "cell_type": "markdown",
   "metadata": {},
   "source": [
    "### Modeling - Multiclass Classification"
   ]
  },
  {
   "cell_type": "code",
   "execution_count": 48,
   "metadata": {},
   "outputs": [
    {
     "data": {
      "text/plain": [
       "LinearSVC(C=1.0, class_weight=None, dual=True, fit_intercept=True,\n",
       "     intercept_scaling=1, loss='squared_hinge', max_iter=1000,\n",
       "     multi_class='ovr', penalty='l2', random_state=None, tol=0.0001,\n",
       "     verbose=0)"
      ]
     },
     "execution_count": 48,
     "metadata": {},
     "output_type": "execute_result"
    }
   ],
   "source": [
    "multiclass_lsvc = LinearSVC()\n",
    "multiclass_lsvc.fit(modeling_tfidf_X_train, multiclass_y_train)"
   ]
  },
  {
   "cell_type": "code",
   "execution_count": 49,
   "metadata": {},
   "outputs": [
    {
     "data": {
      "text/plain": [
       "0.74512256994903403"
      ]
     },
     "execution_count": 49,
     "metadata": {},
     "output_type": "execute_result"
    }
   ],
   "source": [
    "cross_val_score(multiclass_lsvc, modeling_tfidf_X_test, multiclass_y_test, cv=5).mean()"
   ]
  },
  {
   "cell_type": "markdown",
   "metadata": {},
   "source": [
    "Right away we can see that trying to predict the rating of the review with four stars as a separate category makes our results quite a bit worse. To see where this difference occurs, we can use confusion matrices for both the binary and multiclass classifications and compare the results of the two."
   ]
  },
  {
   "cell_type": "markdown",
   "metadata": {},
   "source": [
    "### Evaluation of Models"
   ]
  },
  {
   "cell_type": "code",
   "execution_count": 50,
   "metadata": {
    "collapsed": true
   },
   "outputs": [],
   "source": [
    "from sklearn.metrics import confusion_matrix, classification_report"
   ]
  },
  {
   "cell_type": "markdown",
   "metadata": {},
   "source": [
    "##### Binary Classification Model"
   ]
  },
  {
   "cell_type": "code",
   "execution_count": 51,
   "metadata": {
    "scrolled": true
   },
   "outputs": [
    {
     "data": {
      "text/html": [
       "<div>\n",
       "<style>\n",
       "    .dataframe thead tr:only-child th {\n",
       "        text-align: right;\n",
       "    }\n",
       "\n",
       "    .dataframe thead th {\n",
       "        text-align: left;\n",
       "    }\n",
       "\n",
       "    .dataframe tbody tr th {\n",
       "        vertical-align: top;\n",
       "    }\n",
       "</style>\n",
       "<table border=\"1\" class=\"dataframe\">\n",
       "  <thead>\n",
       "    <tr style=\"text-align: right;\">\n",
       "      <th></th>\n",
       "      <th>Predicted Not Five Stars</th>\n",
       "      <th>Predicted Five Stars</th>\n",
       "    </tr>\n",
       "  </thead>\n",
       "  <tbody>\n",
       "    <tr>\n",
       "      <th>Not Five Stars</th>\n",
       "      <td>45079</td>\n",
       "      <td>20513</td>\n",
       "    </tr>\n",
       "    <tr>\n",
       "      <th>Five Stars</th>\n",
       "      <td>10664</td>\n",
       "      <td>85869</td>\n",
       "    </tr>\n",
       "  </tbody>\n",
       "</table>\n",
       "</div>"
      ],
      "text/plain": [
       "                Predicted Not Five Stars  Predicted Five Stars\n",
       "Not Five Stars                     45079                 20513\n",
       "Five Stars                         10664                 85869"
      ]
     },
     "execution_count": 51,
     "metadata": {},
     "output_type": "execute_result"
    }
   ],
   "source": [
    "binary_predicted = clf.predict(modeling_tfidf_X_test)\n",
    "\n",
    "con_mat = confusion_matrix(y_test, binary_predicted)\n",
    "\n",
    "confusion = pd.DataFrame(con_mat, index=['Not Five Stars', 'Five Stars'],\n",
    "                        columns=['Predicted Not Five Stars', 'Predicted Five Stars'])\n",
    "confusion"
   ]
  },
  {
   "cell_type": "code",
   "execution_count": 52,
   "metadata": {
    "scrolled": true
   },
   "outputs": [
    {
     "name": "stdout",
     "output_type": "stream",
     "text": [
      "             precision    recall  f1-score   support\n",
      "\n",
      "          0       0.81      0.69      0.74     65592\n",
      "          1       0.81      0.89      0.85     96533\n",
      "\n",
      "avg / total       0.81      0.81      0.80    162125\n",
      "\n"
     ]
    }
   ],
   "source": [
    "print(classification_report(y_test, binary_predicted))"
   ]
  },
  {
   "cell_type": "code",
   "execution_count": 53,
   "metadata": {
    "scrolled": false
   },
   "outputs": [
    {
     "data": {
      "image/png": "[encoded data removed]",
      "text/plain": [
       "<matplotlib.figure.Figure at 0x1a42bf5f60>"
      ]
     },
     "metadata": {},
     "output_type": "display_data"
    }
   ],
   "source": [
    "# Calculating the recall manually for by dividing each value in the row by the sum of the row\n",
    "norm_conf = []\n",
    "for i in con_mat:\n",
    "    a = 0\n",
    "    tmp_arr = []\n",
    "    a = sum(i, 0)\n",
    "    for j in i:\n",
    "        tmp_arr.append(float(j)/float(a))\n",
    "    norm_conf.append(tmp_arr)\n",
    "    \n",
    "fig = plt.figure(figsize=(12, 12))\n",
    "plt.clf()\n",
    "ax = fig.add_subplot(111)\n",
    "ax.set_aspect(1)\n",
    "res = ax.imshow(np.array(norm_conf), cmap=plt.cm.jet, interpolation='nearest')\n",
    "\n",
    "width, height = con_mat.shape\n",
    "\n",
    "# Annotating each of the values in the confusion matrix onto the heatmap\n",
    "for x in range(width):\n",
    "    for y in range(height):\n",
    "        ax.annotate(str(con_mat[x][y]), xy=(y, x),\n",
    "                   horizontalalignment='center', verticalalignment='center', color='white',\n",
    "                   fontsize=20)\n",
    "\n",
    "cb = fig.colorbar(res)\n",
    "\n",
    "xlabels = ['Predicted One, Two, Three, or Four Stars', 'Predicted Five Stars']\n",
    "ylabels = ['One, Two, Three, or Four Stars', 'Five Stars']\n",
    "plt.title('Heatmap of Confusion Matrix for Binary Classification', fontsize=20)\n",
    "plt.xlabel('Predicted Values', fontsize=18)\n",
    "plt.ylabel('Actual Values', fontsize=18)\n",
    "plt.xticks(range(width), xlabels[:width], fontsize=12)\n",
    "plt.yticks(range(height), ylabels[:height], fontsize=12)\n",
    "plt.grid(False)\n",
    "plt.show()"
   ]
  },
  {
   "cell_type": "markdown",
   "metadata": {},
   "source": [
    "We can see from the classification report that our Binary classification model correctly predicted five star ratings 89% of the time, while only predicting non-five star ratings correclty 69% of the time. This is at least partly due to the model overpredicting five stars, with around 10,000 more predictions of five stars then there were actual ratings."
   ]
  },
  {
   "cell_type": "markdown",
   "metadata": {},
   "source": [
    "##### Multiclass Classification Model"
   ]
  },
  {
   "cell_type": "code",
   "execution_count": 54,
   "metadata": {},
   "outputs": [
    {
     "data": {
      "text/html": [
       "<div>\n",
       "<style>\n",
       "    .dataframe thead tr:only-child th {\n",
       "        text-align: right;\n",
       "    }\n",
       "\n",
       "    .dataframe thead th {\n",
       "        text-align: left;\n",
       "    }\n",
       "\n",
       "    .dataframe tbody tr th {\n",
       "        vertical-align: top;\n",
       "    }\n",
       "</style>\n",
       "<table border=\"1\" class=\"dataframe\">\n",
       "  <thead>\n",
       "    <tr style=\"text-align: right;\">\n",
       "      <th></th>\n",
       "      <th>Predicted Not Five Stars</th>\n",
       "      <th>Predicted Five Stars</th>\n",
       "    </tr>\n",
       "  </thead>\n",
       "  <tbody>\n",
       "    <tr>\n",
       "      <th>Not Five Stars</th>\n",
       "      <td>45079</td>\n",
       "      <td>20513</td>\n",
       "    </tr>\n",
       "    <tr>\n",
       "      <th>Five Stars</th>\n",
       "      <td>10664</td>\n",
       "      <td>85869</td>\n",
       "    </tr>\n",
       "  </tbody>\n",
       "</table>\n",
       "</div>"
      ],
      "text/plain": [
       "                Predicted Not Five Stars  Predicted Five Stars\n",
       "Not Five Stars                     45079                 20513\n",
       "Five Stars                         10664                 85869"
      ]
     },
     "execution_count": 54,
     "metadata": {},
     "output_type": "execute_result"
    }
   ],
   "source": [
    "multiclass_predicted = multiclass_lsvc.predict(modeling_tfidf_X_test)\n",
    "\n",
    "multiclass_con_mat = confusion_matrix(multiclass_y_test, multiclass_predicted)\n",
    "\n",
    "multiclass_confusion = pd.DataFrame(multiclass_con_mat, index=['One, Two or Three Stars', \n",
    "        'Four Stars', 'Five Stars'], columns=['Predicted One, Two, or Three Stars', \n",
    "                                    'Predicted Four Stars', 'Predicted Five Stars'])\n",
    "confusion"
   ]
  },
  {
   "cell_type": "code",
   "execution_count": 55,
   "metadata": {},
   "outputs": [
    {
     "name": "stdout",
     "output_type": "stream",
     "text": [
      "             precision    recall  f1-score   support\n",
      "\n",
      "          0       0.76      0.74      0.75     32156\n",
      "          1       0.60      0.26      0.36     33436\n",
      "          2       0.77      0.93      0.85     96533\n",
      "\n",
      "avg / total       0.73      0.76      0.73    162125\n",
      "\n"
     ]
    }
   ],
   "source": [
    "print(classification_report(multiclass_y_test, multiclass_predicted))"
   ]
  },
  {
   "cell_type": "code",
   "execution_count": 56,
   "metadata": {},
   "outputs": [
    {
     "data": {
      "image/png": "[encoded data removed]",
      "text/plain": [
       "<matplotlib.figure.Figure at 0x1a489f1cc0>"
      ]
     },
     "metadata": {},
     "output_type": "display_data"
    }
   ],
   "source": [
    "norm_conf = []\n",
    "for i in multiclass_con_mat:\n",
    "    a = 0\n",
    "    tmp_arr = []\n",
    "    a = sum(i, 0)\n",
    "    for j in i:\n",
    "        tmp_arr.append(float(j)/float(a))\n",
    "    norm_conf.append(tmp_arr)\n",
    "    \n",
    "fig = plt.figure(figsize=(12, 12))\n",
    "plt.clf()\n",
    "ax = fig.add_subplot(111)\n",
    "ax.set_aspect(1)\n",
    "res = ax.imshow(np.array(norm_conf), cmap=plt.cm.jet, interpolation='nearest')\n",
    "\n",
    "width, height = multiclass_con_mat.shape\n",
    "\n",
    "for x in range(width):\n",
    "    for y in range(height):\n",
    "        ax.annotate(str(multiclass_con_mat[x][y]), xy=(y, x),\n",
    "                   horizontalalignment='center', verticalalignment='center', color='white',\n",
    "                   fontsize=20)\n",
    "\n",
    "cb = fig.colorbar(res)\n",
    "\n",
    "xlabels = ['Predicted One, Two, or Three Stars', 'Predicted Four Stars', 'Predicted Five Stars']\n",
    "ylabels = ['One, Two, or Three Stars', 'Four Stars', 'Five Stars']\n",
    "plt.title('Heatmap of Confusion Matrix for Multiclass Classification', fontsize=20)\n",
    "plt.xticks(range(width), xlabels[:width], fontsize=12)\n",
    "plt.yticks(range(height), ylabels[:height], fontsize=12)\n",
    "plt.xlabel('Predicted Values', fontsize=18)\n",
    "plt.ylabel('Actual Values', fontsize=18)\n",
    "plt.grid(False)\n",
    "plt.show()"
   ]
  },
  {
   "cell_type": "markdown",
   "metadata": {},
   "source": [
    "Separating out the four star ratings from all of the other non-five star ratings makes our model even better at predicting five star ratings, going from 89% to 93% recall. It also correctly predicts one, two, or three star ratings 74% of the time. However, it completely fails to predict four star ratings, correctly predicting those only 26% of the time, with ~60% of them being misclassified as five stars.\n",
    "\n",
    "This makes sense to me as four star ratings would a lot of the time consist of mostly positive words, with some some negative words making up the 'but' of the review that stops it from being five-star worthy.\n",
    "\n",
    "This model also overpredicts five star ratings even more than the binary classification model, with about ~20,000 more predictions of five stars than there were actual five star ratings."
   ]
  },
  {
   "cell_type": "markdown",
   "metadata": {},
   "source": [
    "### What can we Learn?"
   ]
  },
  {
   "cell_type": "markdown",
   "metadata": {},
   "source": [
    "A possible business-use for this project would be pulling out words that are strong predictors of five star ratings that could possibly be used to guide production of technological products towards certain features. To take a look at if this pans out, we will pull out the feature names from our original TFIDF Vectorizer fits, and put them in a dataframe with their coefficients, then sort by them by how strong of a predictor they are."
   ]
  },
  {
   "cell_type": "code",
   "execution_count": 57,
   "metadata": {},
   "outputs": [],
   "source": [
    "# Creating separate feature names for words from the summary and text columns, so that words\n",
    "# that appear in both are separated and easily readable.\n",
    "\n",
    "text_features = []\n",
    "for feature in text_tfidf.get_feature_names():\n",
    "    text_feature = 'text_'+feature\n",
    "    text_features.append(text_feature)\n",
    "    \n",
    "summary_features = []\n",
    "for feature in summary_tfidf.get_feature_names():\n",
    "    summary_feature = 'summary_'+feature\n",
    "    summary_features.append(summary_feature)"
   ]
  },
  {
   "cell_type": "code",
   "execution_count": 58,
   "metadata": {
    "collapsed": true
   },
   "outputs": [],
   "source": [
    "## Since the coefficients from the model will be in the same order as the original dataframe\n",
    "## that it was trained to, we can just take the first 5500 (to exclude the coefficients from\n",
    "## the non-TFIDF columns) and put them in a dataframe with the matching feature names created\n",
    "## above.\n",
    "\n",
    "# feature_coefficients = \\\n",
    "#                         pd.DataFrame(list(zip((text_features + summary_features), \n",
    "#                         gs_lsvc.coef_[:, :5500].tolist()[0])), \n",
    "#                         columns=['feature', 'coefficient'])\n",
    "\n",
    "# # Saving this dataframe as a csv in case of kernel death so that the tfidf does not need to be\n",
    "# # run again.\n",
    "# feature_coefficients.to_csv('feature_coefficients.csv', index=False)"
   ]
  },
  {
   "cell_type": "code",
   "execution_count": 59,
   "metadata": {
    "collapsed": true
   },
   "outputs": [],
   "source": [
    "feature_coefficients = pd.read_csv('feature_coefficients.csv')"
   ]
  },
  {
   "cell_type": "code",
   "execution_count": 60,
   "metadata": {
    "collapsed": true,
    "scrolled": true
   },
   "outputs": [],
   "source": [
    "# Taking just the top 20 words with the strongest coefficients (positive or negative) by\n",
    "# sorting them by the absolute value of the coefficient\n",
    "\n",
    "top20_features = feature_coefficients.reindex(feature_coefficients.coefficient.abs()\n",
    "                            .sort_values(inplace=False, ascending=False).index).iloc[:20, :]\n",
    "\n",
    "# Reseting the index\n",
    "top20_features.index = range(20)"
   ]
  },
  {
   "cell_type": "code",
   "execution_count": 61,
   "metadata": {
    "collapsed": true
   },
   "outputs": [],
   "source": [
    "# Getting lists of the values of both the word and coefficient from the top 20 features so that\n",
    "# they can be graphed easily. Reversing is so that the order of the graph is to my liking.\n",
    "\n",
    "top20_coefs = top20_features['coefficient'].values.tolist()\n",
    "top20_coefs.reverse()\n",
    "\n",
    "top20_words = top20_features['feature'].values.tolist()\n",
    "top20_words.reverse()"
   ]
  },
  {
   "cell_type": "code",
   "execution_count": 62,
   "metadata": {
    "scrolled": false
   },
   "outputs": [
    {
     "data": {
      "image/png": "[encoded data removed]",
      "text/plain": [
       "<matplotlib.figure.Figure at 0x1a345582e8>"
      ]
     },
     "metadata": {},
     "output_type": "display_data"
    }
   ],
   "source": [
    "plt.figure(figsize=(6,8))\n",
    "plt.barh(np.arange(len(top20_words)), top20_coefs)\n",
    "plt.title('Strongest Predicting Words for 5-Star Ratings', fontsize=20)\n",
    "plt.grid(color='black', lw=0.2)\n",
    "plt.xticks(np.arange(-8,4), range(-8,4), fontsize=12)\n",
    "plt.xlabel('Coefficient', fontsize=16)\n",
    "plt.ylabel('Source of Word and Word', fontsize=16)\n",
    "plt.yticks(np.arange(len(top20_words)), top20_words, fontsize=12)\n",
    "plt.show()"
   ]
  },
  {
   "cell_type": "markdown",
   "metadata": {},
   "source": [
    "We can see that of the top 20 strongest predictors of a review's rating, only one of them, 'highly' in the text of a review, is indicative of a five star rating. The rest all pull towards a non-five star rating, with the word 'star' in the text of a review being the strongest predictor by far. I would assume that this means when a person is leaving a negative review, they also like to say what rating they are giving. Since these are almost completely negative coefficients, and I believe that the best information for business-use would be what people are looking for that make it worthy of a five star reivew, we will now look at only the top 20 positive coefficients."
   ]
  },
  {
   "cell_type": "code",
   "execution_count": 63,
   "metadata": {
    "collapsed": true
   },
   "outputs": [],
   "source": [
    "# Taking just the strongest positive features\n",
    "top20_positive_features = feature_coefficients.reindex(feature_coefficients.coefficient\n",
    "                            .sort_values(inplace=False, ascending=False).index).iloc[:20, :]\n",
    "\n",
    "top20_positive_features.index = range(20)"
   ]
  },
  {
   "cell_type": "code",
   "execution_count": 64,
   "metadata": {
    "collapsed": true
   },
   "outputs": [],
   "source": [
    "top20_positive_coefs = top20_positive_features['coefficient'].values.tolist()\n",
    "top20_positive_coefs.reverse()\n",
    "\n",
    "top20_positive_words = top20_positive_features['feature'].values.tolist()\n",
    "top20_positive_words.reverse()"
   ]
  },
  {
   "cell_type": "code",
   "execution_count": 65,
   "metadata": {},
   "outputs": [
    {
     "data": {
      "image/png": "[encoded data removed]",
      "text/plain": [
       "<matplotlib.figure.Figure at 0x1a2fb228d0>"
      ]
     },
     "metadata": {},
     "output_type": "display_data"
    }
   ],
   "source": [
    "plt.figure(figsize=(6,8))\n",
    "plt.barh(np.arange(len(top20_positive_words)), top20_positive_coefs)\n",
    "plt.title('Strongest Predicting Words for 5-Star Ratings', fontsize=20)\n",
    "plt.grid(color='black', lw=0.2)\n",
    "plt.xticks(np.arange(4), range(4), fontsize=12)\n",
    "plt.xlabel('Coefficient', fontsize=16)\n",
    "plt.ylabel('Source of Word and Word', fontsize=16)\n",
    "plt.yticks(np.arange(len(top20_positive_words)), top20_positive_words, fontsize=12)\n",
    "plt.show()"
   ]
  },
  {
   "cell_type": "markdown",
   "metadata": {},
   "source": [
    "Unfortunately, all of these positive words seem quite generic, and do not look like they would have much use for a business looking for features to incorporate into their products. To find some words that may actually have a use, we'll have to look further into the dataframe."
   ]
  },
  {
   "cell_type": "code",
   "execution_count": 66,
   "metadata": {
    "scrolled": true
   },
   "outputs": [
    {
     "data": {
      "text/html": [
       "<div>\n",
       "<style>\n",
       "    .dataframe thead tr:only-child th {\n",
       "        text-align: right;\n",
       "    }\n",
       "\n",
       "    .dataframe thead th {\n",
       "        text-align: left;\n",
       "    }\n",
       "\n",
       "    .dataframe tbody tr th {\n",
       "        vertical-align: top;\n",
       "    }\n",
       "</style>\n",
       "<table border=\"1\" class=\"dataframe\">\n",
       "  <thead>\n",
       "    <tr style=\"text-align: right;\">\n",
       "      <th></th>\n",
       "      <th>feature</th>\n",
       "      <th>coefficient</th>\n",
       "    </tr>\n",
       "  </thead>\n",
       "  <tbody>\n",
       "    <tr>\n",
       "      <th>1347</th>\n",
       "      <td>text_highli</td>\n",
       "      <td>3.194384</td>\n",
       "    </tr>\n",
       "    <tr>\n",
       "      <th>1291</th>\n",
       "      <td>text_happier</td>\n",
       "      <td>2.509739</td>\n",
       "    </tr>\n",
       "    <tr>\n",
       "      <th>2612</th>\n",
       "      <td>text_skeptic</td>\n",
       "      <td>2.424620</td>\n",
       "    </tr>\n",
       "    <tr>\n",
       "      <th>93</th>\n",
       "      <td>text_amaz</td>\n",
       "      <td>2.371493</td>\n",
       "    </tr>\n",
       "    <tr>\n",
       "      <th>741</th>\n",
       "      <td>text_deserv</td>\n",
       "      <td>2.341632</td>\n",
       "    </tr>\n",
       "    <tr>\n",
       "      <th>1336</th>\n",
       "      <td>text_hesit</td>\n",
       "      <td>2.148273</td>\n",
       "    </tr>\n",
       "    <tr>\n",
       "      <th>2083</th>\n",
       "      <td>text_perfectli</td>\n",
       "      <td>2.034103</td>\n",
       "    </tr>\n",
       "    <tr>\n",
       "      <th>1195</th>\n",
       "      <td>text_gem</td>\n",
       "      <td>1.997776</td>\n",
       "    </tr>\n",
       "    <tr>\n",
       "      <th>5092</th>\n",
       "      <td>summary_sooner</td>\n",
       "      <td>1.937179</td>\n",
       "    </tr>\n",
       "    <tr>\n",
       "      <th>3271</th>\n",
       "      <td>text_worri</td>\n",
       "      <td>1.914985</td>\n",
       "    </tr>\n",
       "    <tr>\n",
       "      <th>1215</th>\n",
       "      <td>text_glad</td>\n",
       "      <td>1.804749</td>\n",
       "    </tr>\n",
       "    <tr>\n",
       "      <th>1689</th>\n",
       "      <td>text_love</td>\n",
       "      <td>1.786432</td>\n",
       "    </tr>\n",
       "    <tr>\n",
       "      <th>4158</th>\n",
       "      <td>summary_happier</td>\n",
       "      <td>1.760190</td>\n",
       "    </tr>\n",
       "    <tr>\n",
       "      <th>2788</th>\n",
       "      <td>text_stumbl</td>\n",
       "      <td>1.708803</td>\n",
       "    </tr>\n",
       "    <tr>\n",
       "      <th>727</th>\n",
       "      <td>text_delight</td>\n",
       "      <td>1.684149</td>\n",
       "    </tr>\n",
       "    <tr>\n",
       "      <th>1468</th>\n",
       "      <td>text_instantli</td>\n",
       "      <td>1.672953</td>\n",
       "    </tr>\n",
       "    <tr>\n",
       "      <th>1028</th>\n",
       "      <td>text_fantast</td>\n",
       "      <td>1.659617</td>\n",
       "    </tr>\n",
       "    <tr>\n",
       "      <th>3282</th>\n",
       "      <td>text_wow</td>\n",
       "      <td>1.640398</td>\n",
       "    </tr>\n",
       "    <tr>\n",
       "      <th>1094</th>\n",
       "      <td>text_flawlessli</td>\n",
       "      <td>1.631481</td>\n",
       "    </tr>\n",
       "    <tr>\n",
       "      <th>458</th>\n",
       "      <td>text_charm</td>\n",
       "      <td>1.628057</td>\n",
       "    </tr>\n",
       "    <tr>\n",
       "      <th>972</th>\n",
       "      <td>text_exceed</td>\n",
       "      <td>1.611071</td>\n",
       "    </tr>\n",
       "    <tr>\n",
       "      <th>2077</th>\n",
       "      <td>text_penni</td>\n",
       "      <td>1.577225</td>\n",
       "    </tr>\n",
       "    <tr>\n",
       "      <th>2093</th>\n",
       "      <td>text_phenomen</td>\n",
       "      <td>1.572369</td>\n",
       "    </tr>\n",
       "    <tr>\n",
       "      <th>4014</th>\n",
       "      <td>summary_final</td>\n",
       "      <td>1.569553</td>\n",
       "    </tr>\n",
       "    <tr>\n",
       "      <th>3245</th>\n",
       "      <td>text_winner</td>\n",
       "      <td>1.564068</td>\n",
       "    </tr>\n",
       "    <tr>\n",
       "      <th>5333</th>\n",
       "      <td>summary_unbeliev</td>\n",
       "      <td>1.554504</td>\n",
       "    </tr>\n",
       "    <tr>\n",
       "      <th>2009</th>\n",
       "      <td>text_outstand</td>\n",
       "      <td>1.471253</td>\n",
       "    </tr>\n",
       "    <tr>\n",
       "      <th>5083</th>\n",
       "      <td>summary_solv</td>\n",
       "      <td>1.469061</td>\n",
       "    </tr>\n",
       "    <tr>\n",
       "      <th>969</th>\n",
       "      <td>text_exactli</td>\n",
       "      <td>1.432897</td>\n",
       "    </tr>\n",
       "    <tr>\n",
       "      <th>973</th>\n",
       "      <td>text_excel</td>\n",
       "      <td>1.429205</td>\n",
       "    </tr>\n",
       "    <tr>\n",
       "      <th>...</th>\n",
       "      <td>...</td>\n",
       "      <td>...</td>\n",
       "    </tr>\n",
       "    <tr>\n",
       "      <th>3273</th>\n",
       "      <td>text_worst</td>\n",
       "      <td>-2.258790</td>\n",
       "    </tr>\n",
       "    <tr>\n",
       "      <th>376</th>\n",
       "      <td>text_bummer</td>\n",
       "      <td>-2.261804</td>\n",
       "    </tr>\n",
       "    <tr>\n",
       "      <th>5461</th>\n",
       "      <td>summary_worst</td>\n",
       "      <td>-2.265513</td>\n",
       "    </tr>\n",
       "    <tr>\n",
       "      <th>1246</th>\n",
       "      <td>text_graini</td>\n",
       "      <td>-2.269710</td>\n",
       "    </tr>\n",
       "    <tr>\n",
       "      <th>3846</th>\n",
       "      <td>summary_doesnt</td>\n",
       "      <td>-2.302995</td>\n",
       "    </tr>\n",
       "    <tr>\n",
       "      <th>5095</th>\n",
       "      <td>summary_soso</td>\n",
       "      <td>-2.305787</td>\n",
       "    </tr>\n",
       "    <tr>\n",
       "      <th>3272</th>\n",
       "      <td>text_wors</td>\n",
       "      <td>-2.364062</td>\n",
       "    </tr>\n",
       "    <tr>\n",
       "      <th>115</th>\n",
       "      <td>text_annoy</td>\n",
       "      <td>-2.368068</td>\n",
       "    </tr>\n",
       "    <tr>\n",
       "      <th>4321</th>\n",
       "      <td>summary_junk</td>\n",
       "      <td>-2.417165</td>\n",
       "    </tr>\n",
       "    <tr>\n",
       "      <th>4092</th>\n",
       "      <td>summary_garbag</td>\n",
       "      <td>-2.462035</td>\n",
       "    </tr>\n",
       "    <tr>\n",
       "      <th>4032</th>\n",
       "      <td>summary_flaw</td>\n",
       "      <td>-2.466206</td>\n",
       "    </tr>\n",
       "    <tr>\n",
       "      <th>4352</th>\n",
       "      <td>summary_lack</td>\n",
       "      <td>-2.560536</td>\n",
       "    </tr>\n",
       "    <tr>\n",
       "      <th>1261</th>\n",
       "      <td>text_gripe</td>\n",
       "      <td>-2.597639</td>\n",
       "    </tr>\n",
       "    <tr>\n",
       "      <th>4759</th>\n",
       "      <td>summary_poor</td>\n",
       "      <td>-2.625701</td>\n",
       "    </tr>\n",
       "    <tr>\n",
       "      <th>2154</th>\n",
       "      <td>text_poor</td>\n",
       "      <td>-2.675143</td>\n",
       "    </tr>\n",
       "    <tr>\n",
       "      <th>4630</th>\n",
       "      <td>summary_okay</td>\n",
       "      <td>-2.677073</td>\n",
       "    </tr>\n",
       "    <tr>\n",
       "      <th>1803</th>\n",
       "      <td>text_mislead</td>\n",
       "      <td>-2.734651</td>\n",
       "    </tr>\n",
       "    <tr>\n",
       "      <th>1575</th>\n",
       "      <td>text_lack</td>\n",
       "      <td>-2.859726</td>\n",
       "    </tr>\n",
       "    <tr>\n",
       "      <th>1997</th>\n",
       "      <td>text_otherwis</td>\n",
       "      <td>-2.921391</td>\n",
       "    </tr>\n",
       "    <tr>\n",
       "      <th>4629</th>\n",
       "      <td>summary_ok</td>\n",
       "      <td>-2.934987</td>\n",
       "    </tr>\n",
       "    <tr>\n",
       "      <th>2336</th>\n",
       "      <td>text_refund</td>\n",
       "      <td>-2.947683</td>\n",
       "    </tr>\n",
       "    <tr>\n",
       "      <th>1966</th>\n",
       "      <td>text_okay</td>\n",
       "      <td>-3.078618</td>\n",
       "    </tr>\n",
       "    <tr>\n",
       "      <th>272</th>\n",
       "      <td>text_bewar</td>\n",
       "      <td>-3.151385</td>\n",
       "    </tr>\n",
       "    <tr>\n",
       "      <th>3063</th>\n",
       "      <td>text_unaccept</td>\n",
       "      <td>-3.230504</td>\n",
       "    </tr>\n",
       "    <tr>\n",
       "      <th>3115</th>\n",
       "      <td>text_useless</td>\n",
       "      <td>-3.481325</td>\n",
       "    </tr>\n",
       "    <tr>\n",
       "      <th>3072</th>\n",
       "      <td>text_unfortun</td>\n",
       "      <td>-3.643141</td>\n",
       "    </tr>\n",
       "    <tr>\n",
       "      <th>1965</th>\n",
       "      <td>text_ok</td>\n",
       "      <td>-3.662239</td>\n",
       "    </tr>\n",
       "    <tr>\n",
       "      <th>1380</th>\n",
       "      <td>text_howev</td>\n",
       "      <td>-4.087858</td>\n",
       "    </tr>\n",
       "    <tr>\n",
       "      <th>2404</th>\n",
       "      <td>text_return</td>\n",
       "      <td>-4.635802</td>\n",
       "    </tr>\n",
       "    <tr>\n",
       "      <th>2730</th>\n",
       "      <td>text_star</td>\n",
       "      <td>-7.445050</td>\n",
       "    </tr>\n",
       "  </tbody>\n",
       "</table>\n",
       "<p>5500 rows × 2 columns</p>\n",
       "</div>"
      ],
      "text/plain": [
       "               feature  coefficient\n",
       "1347       text_highli     3.194384\n",
       "1291      text_happier     2.509739\n",
       "2612      text_skeptic     2.424620\n",
       "93           text_amaz     2.371493\n",
       "741        text_deserv     2.341632\n",
       "1336        text_hesit     2.148273\n",
       "2083    text_perfectli     2.034103\n",
       "1195          text_gem     1.997776\n",
       "5092    summary_sooner     1.937179\n",
       "3271        text_worri     1.914985\n",
       "1215         text_glad     1.804749\n",
       "1689         text_love     1.786432\n",
       "4158   summary_happier     1.760190\n",
       "2788       text_stumbl     1.708803\n",
       "727       text_delight     1.684149\n",
       "1468    text_instantli     1.672953\n",
       "1028      text_fantast     1.659617\n",
       "3282          text_wow     1.640398\n",
       "1094   text_flawlessli     1.631481\n",
       "458         text_charm     1.628057\n",
       "972        text_exceed     1.611071\n",
       "2077        text_penni     1.577225\n",
       "2093     text_phenomen     1.572369\n",
       "4014     summary_final     1.569553\n",
       "3245       text_winner     1.564068\n",
       "5333  summary_unbeliev     1.554504\n",
       "2009     text_outstand     1.471253\n",
       "5083      summary_solv     1.469061\n",
       "969       text_exactli     1.432897\n",
       "973         text_excel     1.429205\n",
       "...                ...          ...\n",
       "3273        text_worst    -2.258790\n",
       "376        text_bummer    -2.261804\n",
       "5461     summary_worst    -2.265513\n",
       "1246       text_graini    -2.269710\n",
       "3846    summary_doesnt    -2.302995\n",
       "5095      summary_soso    -2.305787\n",
       "3272         text_wors    -2.364062\n",
       "115         text_annoy    -2.368068\n",
       "4321      summary_junk    -2.417165\n",
       "4092    summary_garbag    -2.462035\n",
       "4032      summary_flaw    -2.466206\n",
       "4352      summary_lack    -2.560536\n",
       "1261        text_gripe    -2.597639\n",
       "4759      summary_poor    -2.625701\n",
       "2154         text_poor    -2.675143\n",
       "4630      summary_okay    -2.677073\n",
       "1803      text_mislead    -2.734651\n",
       "1575         text_lack    -2.859726\n",
       "1997     text_otherwis    -2.921391\n",
       "4629        summary_ok    -2.934987\n",
       "2336       text_refund    -2.947683\n",
       "1966         text_okay    -3.078618\n",
       "272         text_bewar    -3.151385\n",
       "3063     text_unaccept    -3.230504\n",
       "3115      text_useless    -3.481325\n",
       "3072     text_unfortun    -3.643141\n",
       "1965           text_ok    -3.662239\n",
       "1380        text_howev    -4.087858\n",
       "2404       text_return    -4.635802\n",
       "2730         text_star    -7.445050\n",
       "\n",
       "[5500 rows x 2 columns]"
      ]
     },
     "execution_count": 66,
     "metadata": {},
     "output_type": "execute_result"
    }
   ],
   "source": [
    "feature_coefficients.reindex(feature_coefficients.coefficient\n",
    "                            .sort_values(inplace=False, ascending=False).index)"
   ]
  },
  {
   "cell_type": "markdown",
   "metadata": {},
   "source": [
    "From looking through just the top 300 positive words to try to find some that may be useful to guide production, I found quite a few non-generic words that describe something about a product that obviously quite a lot of people included in their five star review."
   ]
  },
  {
   "cell_type": "code",
   "execution_count": 67,
   "metadata": {},
   "outputs": [
    {
     "data": {
      "text/plain": [
       "feature        text_fast\n",
       "coefficient      1.26428\n",
       "Name: 1032, dtype: object"
      ]
     },
     "execution_count": 67,
     "metadata": {},
     "output_type": "execute_result"
    }
   ],
   "source": [
    "feature_coefficients.reindex(feature_coefficients.coefficient\n",
    "                            .sort_values(inplace=False, ascending=False).index).loc[1032]"
   ]
  },
  {
   "cell_type": "code",
   "execution_count": 68,
   "metadata": {},
   "outputs": [
    {
     "data": {
      "text/plain": [
       "feature        text_unobtrus\n",
       "coefficient          1.25127\n",
       "Name: 3084, dtype: object"
      ]
     },
     "execution_count": 68,
     "metadata": {},
     "output_type": "execute_result"
    }
   ],
   "source": [
    "feature_coefficients.reindex(feature_coefficients.coefficient\n",
    "                            .sort_values(inplace=False, ascending=False).index).loc[3084]"
   ]
  },
  {
   "cell_type": "code",
   "execution_count": 69,
   "metadata": {},
   "outputs": [
    {
     "data": {
      "text/plain": [
       "feature        text_quietli\n",
       "coefficient         1.12112\n",
       "Name: 2261, dtype: object"
      ]
     },
     "execution_count": 69,
     "metadata": {},
     "output_type": "execute_result"
    }
   ],
   "source": [
    "feature_coefficients.reindex(feature_coefficients.coefficient\n",
    "                            .sort_values(inplace=False, ascending=False).index).loc[2261]"
   ]
  },
  {
   "cell_type": "code",
   "execution_count": 70,
   "metadata": {},
   "outputs": [
    {
     "data": {
      "text/plain": [
       "feature        text_expens\n",
       "coefficient       0.926858\n",
       "Name: 988, dtype: object"
      ]
     },
     "execution_count": 70,
     "metadata": {},
     "output_type": "execute_result"
    }
   ],
   "source": [
    "feature_coefficients.reindex(feature_coefficients.coefficient\n",
    "                            .sort_values(inplace=False, ascending=False).index).loc[988]"
   ]
  },
  {
   "cell_type": "code",
   "execution_count": 71,
   "metadata": {},
   "outputs": [
    {
     "data": {
      "text/plain": [
       "feature        text_sturdi\n",
       "coefficient       0.908685\n",
       "Name: 2791, dtype: object"
      ]
     },
     "execution_count": 71,
     "metadata": {},
     "output_type": "execute_result"
    }
   ],
   "source": [
    "feature_coefficients.reindex(feature_coefficients.coefficient\n",
    "                            .sort_values(inplace=False, ascending=False).index).loc[2791]"
   ]
  },
  {
   "cell_type": "code",
   "execution_count": 72,
   "metadata": {},
   "outputs": [
    {
     "data": {
      "text/plain": [
       "feature        text_quiet\n",
       "coefficient      0.874013\n",
       "Name: 2259, dtype: object"
      ]
     },
     "execution_count": 72,
     "metadata": {},
     "output_type": "execute_result"
    }
   ],
   "source": [
    "feature_coefficients.reindex(feature_coefficients.coefficient\n",
    "                            .sort_values(inplace=False, ascending=False).index).loc[2259]"
   ]
  },
  {
   "cell_type": "code",
   "execution_count": 73,
   "metadata": {},
   "outputs": [
    {
     "data": {
      "text/plain": [
       "feature        text_easier\n",
       "coefficient       0.828364\n",
       "Name: 877, dtype: object"
      ]
     },
     "execution_count": 73,
     "metadata": {},
     "output_type": "execute_result"
    }
   ],
   "source": [
    "feature_coefficients.reindex(feature_coefficients.coefficient\n",
    "                            .sort_values(inplace=False, ascending=False).index).loc[877]"
   ]
  },
  {
   "cell_type": "code",
   "execution_count": 74,
   "metadata": {},
   "outputs": [
    {
     "data": {
      "text/plain": [
       "feature        text_cheapest\n",
       "coefficient         0.788212\n",
       "Name: 462, dtype: object"
      ]
     },
     "execution_count": 74,
     "metadata": {},
     "output_type": "execute_result"
    }
   ],
   "source": [
    "feature_coefficients.reindex(feature_coefficients.coefficient\n",
    "                            .sort_values(inplace=False, ascending=False).index).loc[462]"
   ]
  },
  {
   "cell_type": "code",
   "execution_count": 75,
   "metadata": {},
   "outputs": [
    {
     "data": {
      "text/plain": [
       "feature        text_bargain\n",
       "coefficient        0.777424\n",
       "Name: 229, dtype: object"
      ]
     },
     "execution_count": 75,
     "metadata": {},
     "output_type": "execute_result"
    }
   ],
   "source": [
    "feature_coefficients.reindex(feature_coefficients.coefficient\n",
    "                            .sort_values(inplace=False, ascending=False).index).loc[229]"
   ]
  },
  {
   "cell_type": "code",
   "execution_count": 76,
   "metadata": {},
   "outputs": [
    {
     "data": {
      "text/plain": [
       "feature        summary_easiest\n",
       "coefficient           0.768278\n",
       "Name: 3890, dtype: object"
      ]
     },
     "execution_count": 76,
     "metadata": {},
     "output_type": "execute_result"
    }
   ],
   "source": [
    "feature_coefficients.reindex(feature_coefficients.coefficient\n",
    "                            .sort_values(inplace=False, ascending=False).index).loc[3890]"
   ]
  },
  {
   "cell_type": "code",
   "execution_count": 77,
   "metadata": {},
   "outputs": [
    {
     "data": {
      "text/plain": [
       "feature        summary_slick\n",
       "coefficient         0.736406\n",
       "Name: 5054, dtype: object"
      ]
     },
     "execution_count": 77,
     "metadata": {},
     "output_type": "execute_result"
    }
   ],
   "source": [
    "feature_coefficients.reindex(feature_coefficients.coefficient\n",
    "                            .sort_values(inplace=False, ascending=False).index).loc[5054]"
   ]
  },
  {
   "cell_type": "markdown",
   "metadata": {},
   "source": [
    "So our list of possible useful words is: fast, unobtrusive, quietly, expensive, sturdy, quiet, easier, cheapest, bargain, easiest, and slick. Two of these are obviously basically repeats of the same root word (easy and quiet), which mean they should be considered more than their respective coefficients might suggest. Some of these might seem to be fairly obvious positive words when talking about a technological product, but they definitely show what people are looking for in order to give a product a five star rating."
   ]
  },
  {
   "cell_type": "markdown",
   "metadata": {},
   "source": [
    "### Next Steps"
   ]
  },
  {
   "cell_type": "markdown",
   "metadata": {},
   "source": [
    "For the next steps of this project, I have a couple different ideas I would like to try out in order to try make my model even better in places where it has not performed the greatest.\n",
    "\n",
    "First I would like to try transforming my text data into numerical columns using a vectorizer that takes into account the context of each word using surrounding words. I know something like this exists out there but I am unsure of exactly what it is called. I feel like while this may not improve the accuracy of my model too much, it would be able to provide more information when looking at what words are strong predictors of a five star review, which could make the business use of the model more robust.\n",
    "\n",
    "I would also like to try oversampling the non-five-star reviews to attempt to make my model stronger, and better at predicting reviews that weren’t five stars. Currently my model is overpredicting five stars, which could at least partly be because the dataset is made up of about 60% five star reviews, so it is a little bit imbalanced. While using something like SMOTE has not worked out very well at all for me in the past, it seems like something that would take some getting used to and would be incredibly useful if mastered. \n"
   ]
  }
 ],
 "metadata": {
  "kernelspec": {
   "display_name": "Python 3",
   "language": "python",
   "name": "python3"
  },
  "language_info": {
   "codemirror_mode": {
    "name": "ipython",
    "version": 3
   },
   "file_extension": ".py",
   "mimetype": "text/x-python",
   "name": "python",
   "nbconvert_exporter": "python",
   "pygments_lexer": "ipython3",
   "version": "3.6.1"
  }
 },
 "nbformat": 4,
 "nbformat_minor": 2
}
